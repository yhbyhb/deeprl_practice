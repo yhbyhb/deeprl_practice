{
 "cells": [
  {
   "cell_type": "code",
   "execution_count": 1,
   "metadata": {},
   "outputs": [
    {
     "name": "stdout",
     "output_type": "stream",
     "text": [
      "Logging to /tmp/openai-2018-09-14-15-56-56-153504\n"
     ]
    }
   ],
   "source": [
    "import gym\n",
    "from baselines import deepq\n",
    "import tensorflow as tf\n",
    "\n",
    "def callback(lcl, _glb):\n",
    "    # stop training if reward exceeds 199\n",
    "    is_solved = lcl['t'] > 100 and sum(lcl['episode_rewards'][-101:-1]) / 100 >= 199\n",
    "    return is_solved"
   ]
  },
  {
   "cell_type": "code",
   "execution_count": 2,
   "metadata": {},
   "outputs": [],
   "source": [
    "def train_cartpole():\n",
    "    env = gym.make(\"CartPole-v0\")\n",
    "    act = deepq.learn(\n",
    "        env,\n",
    "        network='mlp',\n",
    "        lr=1e-3,\n",
    "        total_timesteps=10000,\n",
    "        buffer_size=50000,\n",
    "        exploration_fraction=0.1,\n",
    "        exploration_final_eps=0.02,\n",
    "        print_freq=100,\n",
    "        callback=callback\n",
    "    )\n",
    "    print(\"Saving model to cartpole_model.pkl\")   \n",
    "    return act"
   ]
  },
  {
   "cell_type": "code",
   "execution_count": 3,
   "metadata": {},
   "outputs": [],
   "source": [
    "def evaluate_cartpole(act):\n",
    "    env = gym.make(\"CartPole-v0\")    \n",
    "    obs, done = env.reset(), False\n",
    "    episode_rew = 0\n",
    "    \n",
    "    while not done:\n",
    "        # env.render()\n",
    "        obs, rew, done, _ = env.step(act(obs[None])[0])\n",
    "        episode_rew += rew\n",
    "    print(\"Episode reward\", episode_rew)"
   ]
  },
  {
   "cell_type": "code",
   "execution_count": 4,
   "metadata": {},
   "outputs": [],
   "source": [
    "def train_mountaincar():\n",
    "    env = gym.make(\"MountainCar-v0\")\n",
    "    \n",
    "    act = deepq.learn(\n",
    "        env,\n",
    "        network='mlp',        \n",
    "        lr=1e-3,\n",
    "        total_timesteps=10000,\n",
    "        buffer_size=50000,\n",
    "        exploration_fraction=0.1,\n",
    "        exploration_final_eps=0.1,\n",
    "        print_freq=100,\n",
    "        param_noise=True,\n",
    "        callback=None\n",
    "    )\n",
    "    print(\"Saving model to mountaincar_model.pkl\")\n",
    "    return act      "
   ]
  },
  {
   "cell_type": "code",
   "execution_count": 5,
   "metadata": {},
   "outputs": [],
   "source": [
    "def evaluate_mountaincar(act):\n",
    "    env = gym.make(\"MountainCar-v0\")    \n",
    "    \n",
    "    obs, done = env.reset(), False\n",
    "    episode_rew = 0\n",
    "    while not done:\n",
    "        # env.render()\n",
    "        obs, rew, done, _ = env.step(act(obs[None])[0])\n",
    "        episode_rew += rew\n",
    "    print(\"Episode reward\", episode_rew)    \n",
    "    env.close()"
   ]
  },
  {
   "cell_type": "code",
   "execution_count": 6,
   "metadata": {
    "scrolled": true
   },
   "outputs": [
    {
     "name": "stdout",
     "output_type": "stream",
     "text": [
      "\u001b[33mWARN: gym.spaces.Box autodetected dtype as <class 'numpy.float32'>. Please provide explicit dtype.\u001b[0m\n"
     ]
    },
    {
     "name": "stderr",
     "output_type": "stream",
     "text": [
      "/home/yhbyhb/anaconda3/envs/deeprl/lib/python3.6/site-packages/numpy/core/fromnumeric.py:2957: RuntimeWarning: Mean of empty slice.\n",
      "  out=out, **kwargs)\n",
      "/home/yhbyhb/anaconda3/envs/deeprl/lib/python3.6/site-packages/numpy/core/_methods.py:80: RuntimeWarning: invalid value encountered in double_scalars\n",
      "  ret = ret.dtype.type(ret / rcount)\n"
     ]
    },
    {
     "name": "stdout",
     "output_type": "stream",
     "text": [
      "--------------------------------------\n",
      "| % time spent exploring  | 2        |\n",
      "| episodes                | 100      |\n",
      "| mean 100 episode reward | 16.8     |\n",
      "| steps                   | 1665     |\n",
      "--------------------------------------\n",
      "Saving model to cartpole_model.pkl\n"
     ]
    }
   ],
   "source": [
    "# Train CartPole\n",
    "with tf.variable_scope('cartpole'):\n",
    "    cartpole_action = train_cartpole()"
   ]
  },
  {
   "cell_type": "code",
   "execution_count": 7,
   "metadata": {},
   "outputs": [
    {
     "name": "stdout",
     "output_type": "stream",
     "text": [
      "\u001b[33mWARN: gym.spaces.Box autodetected dtype as <class 'numpy.float32'>. Please provide explicit dtype.\u001b[0m\n",
      "Episode reward 200.0\n"
     ]
    }
   ],
   "source": [
    "# Evaluate CartPole\n",
    "evaluate_cartpole(cartpole_action)"
   ]
  },
  {
   "cell_type": "code",
   "execution_count": 8,
   "metadata": {},
   "outputs": [
    {
     "name": "stdout",
     "output_type": "stream",
     "text": [
      "\u001b[33mWARN: gym.spaces.Box autodetected dtype as <class 'numpy.float32'>. Please provide explicit dtype.\u001b[0m\n"
     ]
    },
    {
     "name": "stderr",
     "output_type": "stream",
     "text": [
      "/home/yhbyhb/anaconda3/envs/deeprl/lib/python3.6/site-packages/numpy/core/fromnumeric.py:2957: RuntimeWarning: Mean of empty slice.\n",
      "  out=out, **kwargs)\n",
      "/home/yhbyhb/anaconda3/envs/deeprl/lib/python3.6/site-packages/numpy/core/_methods.py:80: RuntimeWarning: invalid value encountered in double_scalars\n",
      "  ret = ret.dtype.type(ret / rcount)\n"
     ]
    },
    {
     "name": "stdout",
     "output_type": "stream",
     "text": [
      "Saving model to mountaincar_model.pkl\n"
     ]
    }
   ],
   "source": [
    "# Train MountainCar\n",
    "with tf.variable_scope('mtncar'):\n",
    "    mtncar_action = train_mountaincar()"
   ]
  },
  {
   "cell_type": "code",
   "execution_count": 9,
   "metadata": {},
   "outputs": [
    {
     "name": "stdout",
     "output_type": "stream",
     "text": [
      "\u001b[33mWARN: gym.spaces.Box autodetected dtype as <class 'numpy.float32'>. Please provide explicit dtype.\u001b[0m\n",
      "Episode reward -200.0\n"
     ]
    }
   ],
   "source": [
    "# Evaluate MountainCar\n",
    "evaluate_mountaincar(mtncar_action)"
   ]
  },
  {
   "cell_type": "code",
   "execution_count": null,
   "metadata": {},
   "outputs": [],
   "source": []
  }
 ],
 "metadata": {
  "kernelspec": {
   "display_name": "deeprl",
   "language": "python",
   "name": "deeprl"
  },
  "language_info": {
   "codemirror_mode": {
    "name": "ipython",
    "version": 3
   },
   "file_extension": ".py",
   "mimetype": "text/x-python",
   "name": "python",
   "nbconvert_exporter": "python",
   "pygments_lexer": "ipython3",
   "version": "3.6.6"
  }
 },
 "nbformat": 4,
 "nbformat_minor": 2
}
